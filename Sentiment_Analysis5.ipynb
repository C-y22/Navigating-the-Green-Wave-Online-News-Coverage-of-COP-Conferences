{
 "cells": [
  {
   "cell_type": "code",
   "execution_count": 32,
   "metadata": {
    "collapsed": false,
    "pycharm": {
     "name": "#%%\n"
    }
   },
   "outputs": [],
   "source": [
    "# import library\n",
    "import nltk\n",
    "from nltk.sentiment import SentimentIntensityAnalyzer\n",
    "import pandas as pd\n",
    "import matplotlib.pyplot as plt\n",
    "import seaborn as sns"
   ]
  },
  {
   "cell_type": "markdown",
   "metadata": {
    "pycharm": {
     "name": "#%% md\n"
    }
   },
   "source": [
    "## data cleaning/pre-processing"
   ]
  },
  {
   "cell_type": "code",
   "execution_count": 19,
   "metadata": {
    "pycharm": {
     "name": "#%%\n"
    }
   },
   "outputs": [],
   "source": [
    "# Time processing\n",
    "df = pd.read_csv(\"finall_data.csv\")\n",
    "df['date'] = pd.to_datetime(df['date'])\n",
    "df['year'] = df['date'].dt.year\n",
    "df['month'] = df['date'].dt.month"
   ]
  },
  {
   "cell_type": "code",
   "execution_count": 20,
   "metadata": {
    "pycharm": {
     "name": "#%%\n"
    }
   },
   "outputs": [
    {
     "name": "stderr",
     "output_type": "stream",
     "text": [
      "C:\\Users\\86157\\AppData\\Local\\Temp\\ipykernel_31580\\2168400970.py:4: UserWarning: Parsing dates in DD/MM/YYYY format when dayfirst=False (the default) was specified. This may lead to inconsistently parsed dates! Specify a format to ensure consistent parsing.\n",
      "  end_date = pd.to_datetime('31/12/2023')\n"
     ]
    }
   ],
   "source": [
    "df.dropna(subset=['body'],inplace=True)\n",
    "start_date = pd.to_datetime('01/01/2020')\n",
    "end_date = pd.to_datetime('31/12/2023')\n",
    "filtered_df = df[(df['date'] >= start_date) & (df['date'] <= end_date)]"
   ]
  },
  {
   "cell_type": "markdown",
   "metadata": {
    "pycharm": {
     "name": "#%% md\n"
    }
   },
   "source": [
    "## Sentiment Analysis"
   ]
  },
  {
   "cell_type": "code",
   "execution_count": 21,
   "metadata": {
    "pycharm": {
     "name": "#%%\n"
    }
   },
   "outputs": [],
   "source": [
    "# 01/2020 to 12/2023\n",
    "# Create an emotion Analyzer\n",
    "sia = SentimentIntensityAnalyzer()\n",
    "\n",
    "sentiment_scores = []\n",
    "for each in filtered_df['body'].values.tolist():\n",
    "    # Conduct sentiment analysis\n",
    "    sentiment_score = sia.polarity_scores(each)['compound']\n",
    "    sentiment_scores.append(sentiment_score)"
   ]
  },
  {
   "cell_type": "code",
   "execution_count": 23,
   "metadata": {
    "collapsed": false,
    "pycharm": {
     "name": "#%%\n"
    }
   },
   "outputs": [
    {
     "name": "stderr",
     "output_type": "stream",
     "text": [
      "C:\\Users\\86157\\AppData\\Local\\Temp\\ipykernel_31580\\4022261341.py:1: SettingWithCopyWarning: \n",
      "A value is trying to be set on a copy of a slice from a DataFrame.\n",
      "Try using .loc[row_indexer,col_indexer] = value instead\n",
      "\n",
      "See the caveats in the documentation: https://pandas.pydata.org/pandas-docs/stable/user_guide/indexing.html#returning-a-view-versus-a-copy\n",
      "  filtered_df['sentiment'] = sentiment_scores\n"
     ]
    }
   ],
   "source": [
    "filtered_df['sentiment'] = sentiment_scores"
   ]
  },
  {
   "cell_type": "code",
   "execution_count": 24,
   "metadata": {
    "collapsed": false,
    "pycharm": {
     "name": "#%%\n"
    }
   },
   "outputs": [
    {
     "data": {
      "text/html": [
       "<div>\n",
       "<style scoped>\n",
       "    .dataframe tbody tr th:only-of-type {\n",
       "        vertical-align: middle;\n",
       "    }\n",
       "\n",
       "    .dataframe tbody tr th {\n",
       "        vertical-align: top;\n",
       "    }\n",
       "\n",
       "    .dataframe thead th {\n",
       "        text-align: right;\n",
       "    }\n",
       "</style>\n",
       "<table border=\"1\" class=\"dataframe\">\n",
       "  <thead>\n",
       "    <tr style=\"text-align: right;\">\n",
       "      <th></th>\n",
       "      <th>Unnamed: 0</th>\n",
       "      <th>keyword</th>\n",
       "      <th>url</th>\n",
       "      <th>from</th>\n",
       "      <th>headline</th>\n",
       "      <th>body</th>\n",
       "      <th>body_word_count</th>\n",
       "      <th>date</th>\n",
       "      <th>year</th>\n",
       "      <th>month</th>\n",
       "      <th>sentiment</th>\n",
       "    </tr>\n",
       "  </thead>\n",
       "  <tbody>\n",
       "    <tr>\n",
       "      <th>3278</th>\n",
       "      <td>1513</td>\n",
       "      <td>Environmental crisis</td>\n",
       "      <td>https://www.foxnews.com/tech/amazon-threatens-...</td>\n",
       "      <td>fox</td>\n",
       "      <td>Amazon threatens to fire employees who critici...</td>\n",
       "      <td>has warned two employees who publicly critici...</td>\n",
       "      <td>404</td>\n",
       "      <td>2020-01-02</td>\n",
       "      <td>2020</td>\n",
       "      <td>1</td>\n",
       "      <td>-0.9921</td>\n",
       "    </tr>\n",
       "    <tr>\n",
       "      <th>3279</th>\n",
       "      <td>7400</td>\n",
       "      <td>Paris Agreement</td>\n",
       "      <td>https://www.foxnews.com/media/maxine-waters-ru...</td>\n",
       "      <td>fox</td>\n",
       "      <td>Maxine Waters' phone call with 'Greta Thunberg...</td>\n",
       "      <td>Rep. \\n, D-Calif., appeared to have been trick...</td>\n",
       "      <td>612</td>\n",
       "      <td>2020-01-03</td>\n",
       "      <td>2020</td>\n",
       "      <td>1</td>\n",
       "      <td>0.9707</td>\n",
       "    </tr>\n",
       "    <tr>\n",
       "      <th>3280</th>\n",
       "      <td>1499</td>\n",
       "      <td>Environmental crisis</td>\n",
       "      <td>https://www.foxnews.com/science/australias-bus...</td>\n",
       "      <td>fox</td>\n",
       "      <td>Australia's bushfire crisis seen from space</td>\n",
       "      <td>The raging bushfires that have destroyed milli...</td>\n",
       "      <td>522</td>\n",
       "      <td>2020-01-03</td>\n",
       "      <td>2020</td>\n",
       "      <td>1</td>\n",
       "      <td>-0.9978</td>\n",
       "    </tr>\n",
       "    <tr>\n",
       "      <th>3281</th>\n",
       "      <td>3750</td>\n",
       "      <td>Renewable energy</td>\n",
       "      <td>https://www.foxnews.com/opinion/daniel-turner-...</td>\n",
       "      <td>fox</td>\n",
       "      <td>Daniel Turner: US can withstand Iranian attack...</td>\n",
       "      <td>The threat Friday by a top Iranian military le...</td>\n",
       "      <td>953</td>\n",
       "      <td>2020-01-04</td>\n",
       "      <td>2020</td>\n",
       "      <td>1</td>\n",
       "      <td>0.9756</td>\n",
       "    </tr>\n",
       "    <tr>\n",
       "      <th>3282</th>\n",
       "      <td>5319</td>\n",
       "      <td>Extreme weather</td>\n",
       "      <td>https://www.foxnews.com/world/australia-wildfi...</td>\n",
       "      <td>fox</td>\n",
       "      <td>Australia wildfires developing their own 'dang...</td>\n",
       "      <td>The \\n that are ravaging parts of \\n are \\n un...</td>\n",
       "      <td>858</td>\n",
       "      <td>2020-01-05</td>\n",
       "      <td>2020</td>\n",
       "      <td>1</td>\n",
       "      <td>-0.9981</td>\n",
       "    </tr>\n",
       "  </tbody>\n",
       "</table>\n",
       "</div>"
      ],
      "text/plain": [
       "      Unnamed: 0               keyword  \\\n",
       "3278        1513  Environmental crisis   \n",
       "3279        7400       Paris Agreement   \n",
       "3280        1499  Environmental crisis   \n",
       "3281        3750      Renewable energy   \n",
       "3282        5319       Extreme weather   \n",
       "\n",
       "                                                    url from  \\\n",
       "3278  https://www.foxnews.com/tech/amazon-threatens-...  fox   \n",
       "3279  https://www.foxnews.com/media/maxine-waters-ru...  fox   \n",
       "3280  https://www.foxnews.com/science/australias-bus...  fox   \n",
       "3281  https://www.foxnews.com/opinion/daniel-turner-...  fox   \n",
       "3282  https://www.foxnews.com/world/australia-wildfi...  fox   \n",
       "\n",
       "                                               headline  \\\n",
       "3278  Amazon threatens to fire employees who critici...   \n",
       "3279  Maxine Waters' phone call with 'Greta Thunberg...   \n",
       "3280        Australia's bushfire crisis seen from space   \n",
       "3281  Daniel Turner: US can withstand Iranian attack...   \n",
       "3282  Australia wildfires developing their own 'dang...   \n",
       "\n",
       "                                                   body  body_word_count  \\\n",
       "3278   has warned two employees who publicly critici...              404   \n",
       "3279  Rep. \\n, D-Calif., appeared to have been trick...              612   \n",
       "3280  The raging bushfires that have destroyed milli...              522   \n",
       "3281  The threat Friday by a top Iranian military le...              953   \n",
       "3282  The \\n that are ravaging parts of \\n are \\n un...              858   \n",
       "\n",
       "           date  year  month  sentiment  \n",
       "3278 2020-01-02  2020      1    -0.9921  \n",
       "3279 2020-01-03  2020      1     0.9707  \n",
       "3280 2020-01-03  2020      1    -0.9978  \n",
       "3281 2020-01-04  2020      1     0.9756  \n",
       "3282 2020-01-05  2020      1    -0.9981  "
      ]
     },
     "execution_count": 24,
     "metadata": {},
     "output_type": "execute_result"
    }
   ],
   "source": [
    "filtered_df.head()"
   ]
  },
  {
   "cell_type": "code",
   "execution_count": 28,
   "metadata": {
    "pycharm": {
     "name": "#%%\n"
    }
   },
   "outputs": [],
   "source": [
    "# sentiment score visualizations, 05/2020 to 05/2021\n",
    "start_date = pd.to_datetime('5/01/2020')\n",
    "end_date = pd.to_datetime('5/31/2021')\n",
    "df1 = filtered_df[(filtered_df['date'] >= start_date) & (filtered_df['date'] <= end_date)]\n",
    "df1['time'] = df1['year'].astype('str') + '-' + df1['month'].astype('str')"
   ]
  },
  {
   "cell_type": "code",
   "execution_count": 34,
   "metadata": {
    "collapsed": false,
    "pycharm": {
     "name": "#%%\n"
    }
   },
   "outputs": [],
   "source": [
    "data = []\n",
    "first_values = df1['time'].drop_duplicates(keep='first')\n",
    "for e in first_values:\n",
    "    data.append(df1[df1['time']==e]['sentiment'].values.tolist())"
   ]
  },
  {
   "cell_type": "code",
   "execution_count": 36,
   "metadata": {
    "collapsed": false,
    "pycharm": {
     "name": "#%%\n"
    }
   },
   "outputs": [
    {
     "data": {
      "image/png": "[encoded data removed]",
      "text/plain": [
       "<Figure size 800x600 with 1 Axes>"
      ]
     },
     "metadata": {},
     "output_type": "display_data"
    }
   ],
   "source": [
    "# Use Matplotlib to draw a box diagram\n",
    "plt.figure(figsize=(8, 6))\n",
    "plt.boxplot(data,\n",
    "            labels=first_values)\n",
    "plt.title('Sentiment Scores of Environmental-Related Articles (05/2020 to 05/2021)')\n",
    "plt.xlabel('time')\n",
    "plt.ylabel('Value')\n",
    "plt.xticks(rotation=45, ha='right')\n",
    "plt.savefig(\"data/Sentiment/05-2020 to 05-2021.png\",dpi=300)\n",
    "plt.close()"
   ]
  },
  {
   "cell_type": "code",
   "execution_count": 37,
   "metadata": {
    "pycharm": {
     "name": "#%%\n"
    }
   },
   "outputs": [
    {
     "name": "stderr",
     "output_type": "stream",
     "text": [
      "C:\\Users\\86157\\AppData\\Local\\Temp\\ipykernel_31580\\2911817351.py:7: SettingWithCopyWarning: \n",
      "A value is trying to be set on a copy of a slice from a DataFrame.\n",
      "Try using .loc[row_indexer,col_indexer] = value instead\n",
      "\n",
      "See the caveats in the documentation: https://pandas.pydata.org/pandas-docs/stable/user_guide/indexing.html#returning-a-view-versus-a-copy\n",
      "  df1['time'] = df1['year'].astype('str') + '-' + df1['month'].astype('str')\n"
     ]
    }
   ],
   "source": [
    "# sentiment score visualizations, 05/2021 to 05/2022\n",
    "start_date = pd.to_datetime('5/01/2021')\n",
    "end_date = pd.to_datetime('5/31/2022')\n",
    "df1 = filtered_df[(filtered_df['date'] >= start_date) & (filtered_df['date'] <= end_date)]\n",
    "df1['time'] = df1['year'].astype('str') + '-' + df1['month'].astype('str')\n",
    "data = []\n",
    "first_values = df1['time'].drop_duplicates(keep='first')\n",
    "for e in first_values:\n",
    "    data.append(df1[df1['time']==e]['sentiment'].values.tolist())\n",
    "plt.figure(figsize=(8, 6))\n",
    "plt.boxplot(data,\n",
    "            labels=first_values)\n",
    "plt.title('Sentiment Scores of Environmental-Related Articles (05/2021 to 05/2022)')\n",
    "plt.xlabel('time')\n",
    "plt.ylabel('Value')\n",
    "plt.xticks(rotation=45, ha='right')\n",
    "plt.savefig(\"data/Sentiment/05-2021 to 05-2022.png\",dpi=300)\n",
    "plt.close()"
   ]
  },
  {
   "cell_type": "code",
   "execution_count": 38,
   "metadata": {
    "pycharm": {
     "name": "#%%\n"
    }
   },
   "outputs": [
    {
     "name": "stderr",
     "output_type": "stream",
     "text": [
      "C:\\Users\\86157\\AppData\\Local\\Temp\\ipykernel_31580\\583589266.py:7: SettingWithCopyWarning: \n",
      "A value is trying to be set on a copy of a slice from a DataFrame.\n",
      "Try using .loc[row_indexer,col_indexer] = value instead\n",
      "\n",
      "See the caveats in the documentation: https://pandas.pydata.org/pandas-docs/stable/user_guide/indexing.html#returning-a-view-versus-a-copy\n",
      "  df1['time'] = df1['year'].astype('str') + '-' + df1['month'].astype('str')\n"
     ]
    }
   ],
   "source": [
    "# sentiment score visualizations, 05/2022 to 05/2023\n",
    "start_date = pd.to_datetime('5/01/2022')\n",
    "end_date = pd.to_datetime('5/31/2023')\n",
    "df1 = filtered_df[(filtered_df['date'] >= start_date) & (filtered_df['date'] <= end_date)]\n",
    "df1['time'] = df1['year'].astype('str') + '-' + df1['month'].astype('str')\n",
    "data = []\n",
    "first_values = df1['time'].drop_duplicates(keep='first')\n",
    "for e in first_values:\n",
    "    data.append(df1[df1['time']==e]['sentiment'].values.tolist())\n",
    "plt.figure(figsize=(8, 6))\n",
    "plt.boxplot(data,\n",
    "            labels=first_values)\n",
    "plt.title('Sentiment Scores of Environmental-Related Articles (05/2022 to 05/2023)')\n",
    "plt.xlabel('time')\n",
    "plt.ylabel('Value')\n",
    "plt.xticks(rotation=45, ha='right')\n",
    "plt.savefig(\"data/Sentiment/05-2022 to 05-2023.png\",dpi=300)\n",
    "plt.close()"
   ]
  },
  {
   "cell_type": "code",
   "execution_count": 39,
   "metadata": {
    "pycharm": {
     "name": "#%%\n"
    }
   },
   "outputs": [
    {
     "name": "stderr",
     "output_type": "stream",
     "text": [
      "C:\\Users\\86157\\AppData\\Local\\Temp\\ipykernel_31580\\204697706.py:7: SettingWithCopyWarning: \n",
      "A value is trying to be set on a copy of a slice from a DataFrame.\n",
      "Try using .loc[row_indexer,col_indexer] = value instead\n",
      "\n",
      "See the caveats in the documentation: https://pandas.pydata.org/pandas-docs/stable/user_guide/indexing.html#returning-a-view-versus-a-copy\n",
      "  df1['time'] = df1['year'].astype('str') + '-' + df1['month'].astype('str')\n"
     ]
    }
   ],
   "source": [
    "# sentiment score visualizations, 05/2020 to 12/2023\n",
    "start_date = pd.to_datetime('5/01/2020')\n",
    "end_date = pd.to_datetime('12/31/2023')\n",
    "df1 = filtered_df[(filtered_df['date'] >= start_date) & (filtered_df['date'] <= end_date)]\n",
    "df1['time'] = df1['year'].astype('str') + '-' + df1['month'].astype('str')\n",
    "data = []\n",
    "first_values = df1['time'].drop_duplicates(keep='first')\n",
    "for e in first_values:\n",
    "    data.append(df1[df1['time']==e]['sentiment'].values.tolist())\n",
    "plt.figure(figsize=(18, 6))\n",
    "plt.boxplot(data,\n",
    "            labels=first_values)\n",
    "plt.title('Sentiment Scores of Environmental-Related Articles (05/2020 to 12/2023)')\n",
    "plt.xlabel('time')\n",
    "plt.ylabel('Value')\n",
    "plt.xticks(rotation=45, ha='right')\n",
    "plt.savefig(\"data/Sentiment/05-2020 to 12-2023.png\",dpi=300)\n",
    "plt.close()"
   ]
  },
  {
   "cell_type": "markdown",
   "metadata": {
    "pycharm": {
     "name": "#%% md\n"
    }
   },
   "source": [
    "### anova"
   ]
  },
  {
   "cell_type": "code",
   "execution_count": 41,
   "metadata": {
    "pycharm": {
     "name": "#%%\n"
    }
   },
   "outputs": [
    {
     "name": "stdout",
     "output_type": "stream",
     "text": [
      "Results of one-way analysis of variance:\n",
      "F-statistic: 2.1731596188567024\n",
      "p-value: 0.11404906317931028\n"
     ]
    }
   ],
   "source": [
    "from scipy.stats import f_oneway\n",
    "# ANOVA \n",
    "# 9/22/2020 to 10/22/2020 & 10/22/2020 to 11/21/2020 & 11/21/2020 to 12/21/2020 (COP26 postpone)\n",
    "# Convert string dates to datetime type\n",
    "start_date = pd.to_datetime('9/22/2020')\n",
    "end_date = pd.to_datetime('10/22/2020')\n",
    "# Filter the data based on date range\n",
    "filtered_df1 = filtered_df[(filtered_df['date'] >= start_date) & (filtered_df['date'] <= end_date)]\n",
    "\n",
    "start_date = pd.to_datetime('10/22/2020')\n",
    "end_date = pd.to_datetime('11/21/2020')\n",
    "filtered_df2 = filtered_df[(filtered_df['date'] >= start_date) & (filtered_df['date'] <= end_date)]\n",
    "\n",
    "start_date = pd.to_datetime('11/21/2020')\n",
    "end_date = pd.to_datetime('12/21/2020')\n",
    "filtered_df3 = filtered_df[(filtered_df['date'] >= start_date) & (filtered_df['date'] <= end_date)]\n",
    "\n",
    "# Count the data for each date and sort by date\n",
    "date1 = filtered_df1['sentiment'].values.tolist()\n",
    "date2 = filtered_df2['sentiment'].values.tolist()\n",
    "date3 = filtered_df3['sentiment'].values.tolist()\n",
    "\n",
    "# Perform one-way analysis of variance (ANOVA)\n",
    "f_statistic, p_value = f_oneway(date1, date2, date3)\n",
    "\n",
    "# Output the results of the ANOVA\n",
    "print(\"Results of one-way analysis of variance:\")\n",
    "print(\"F-statistic:\", f_statistic)\n",
    "print(\"p-value:\", p_value)"
   ]
  },
  {
   "cell_type": "code",
   "execution_count": 43,
   "metadata": {
    "pycharm": {
     "name": "#%%\n"
    }
   },
   "outputs": [
    {
     "name": "stdout",
     "output_type": "stream",
     "text": [
      "Results of one-way analysis of variance:\n",
      "F-statistic: 5.305429211849643\n",
      "p-value: 0.005015178815939185\n"
     ]
    }
   ],
   "source": [
    "# ANOVA \n",
    "# 9/22/2021 to 10/22/2021 & 10/22/2021 to 11/21/2021 & 11/21/2021 to 12/21/2021（COP26 10/31/2021 – 11/12/2021）\n",
    "start_date = pd.to_datetime('9/22/2021')\n",
    "end_date = pd.to_datetime('10/22/2021')\n",
    "# Filter the data based on date range\n",
    "filtered_df1 = filtered_df[(filtered_df['date'] >= start_date) & (filtered_df['date'] <= end_date)]\n",
    "\n",
    "start_date = pd.to_datetime('10/22/2021')\n",
    "end_date = pd.to_datetime('11/21/2021')\n",
    "filtered_df2 = filtered_df[(filtered_df['date'] >= start_date) & (filtered_df['date'] <= end_date)]\n",
    "\n",
    "start_date = pd.to_datetime('11/21/2021')\n",
    "end_date = pd.to_datetime('12/21/2021')\n",
    "filtered_df3 = filtered_df[(filtered_df['date'] >= start_date) & (filtered_df['date'] <= end_date)]\n",
    "\n",
    "# Count the data for each date and sort by date\n",
    "date1 = filtered_df1['sentiment'].values.tolist()\n",
    "date2 = filtered_df2['sentiment'].values.tolist()\n",
    "date3 = filtered_df3['sentiment'].values.tolist()\n",
    "\n",
    "# Perform one-way analysis of variance (ANOVA)\n",
    "f_statistic, p_value = f_oneway(date1, date2, date3)\n",
    "\n",
    "# Output the results of the ANOVA\n",
    "print(\"Results of one-way analysis of variance:\")\n",
    "print(\"F-statistic:\", f_statistic)\n",
    "print(\"p-value:\", p_value)"
   ]
  },
  {
   "cell_type": "code",
   "execution_count": 44,
   "metadata": {
    "pycharm": {
     "name": "#%%\n"
    }
   },
   "outputs": [
    {
     "name": "stdout",
     "output_type": "stream",
     "text": [
      "Results of one-way analysis of variance:\n",
      "F-statistic: 1.450872538810853\n",
      "p-value: 0.23454755919020637\n"
     ]
    }
   ],
   "source": [
    "# ANOVA \n",
    "# 9/27/2022 to 10/27/2022 & 10/27/2022 to 11/27/2022 & 11/27/2022 to 12/27/2022 （COP27 11/6/2022 – 11/18/2022）\n",
    "start_date = pd.to_datetime('9/27/2022')\n",
    "end_date = pd.to_datetime('10/27/2022')\n",
    "# Filter the data based on date range\n",
    "filtered_df1 = filtered_df[(filtered_df['date'] >= start_date) & (filtered_df['date'] <= end_date)]\n",
    "\n",
    "start_date = pd.to_datetime('10/27/2022')\n",
    "end_date = pd.to_datetime('11/27/2022')\n",
    "filtered_df2 = filtered_df[(filtered_df['date'] >= start_date) & (filtered_df['date'] <= end_date)]\n",
    "\n",
    "start_date = pd.to_datetime('11/27/2022')\n",
    "end_date = pd.to_datetime('12/27/2022')\n",
    "filtered_df3 = filtered_df[(filtered_df['date'] >= start_date) & (filtered_df['date'] <= end_date)]\n",
    "\n",
    "# Count the data for each date and sort by date\n",
    "date1 = filtered_df1['sentiment'].values.tolist()\n",
    "date2 = filtered_df2['sentiment'].values.tolist()\n",
    "date3 = filtered_df3['sentiment'].values.tolist()\n",
    "\n",
    "# Perform one-way analysis of variance (ANOVA)\n",
    "f_statistic, p_value = f_oneway(date1, date2, date3)\n",
    "\n",
    "# Output the results of the ANOVA\n",
    "print(\"Results of one-way analysis of variance:\")\n",
    "print(\"F-statistic:\", f_statistic)\n",
    "print(\"p-value:\", p_value)"
   ]
  },
  {
   "cell_type": "code",
   "execution_count": 45,
   "metadata": {
    "pycharm": {
     "name": "#%%\n"
    }
   },
   "outputs": [
    {
     "name": "stdout",
     "output_type": "stream",
     "text": [
      "Results of one-way analysis of variance:\n",
      "F-statistic: 11.863775078727889\n",
      "p-value: 7.391196551086705e-06\n"
     ]
    }
   ],
   "source": [
    "# ANOVA \n",
    "# 9/22/2023 to 10/22/2023 & 10/22/2023 to 11/21/2023 & 11/21/2023 to 12/21/2023 （COP28  11/30/2023 – 12/12/2023）\n",
    "start_date = pd.to_datetime('9/22/2023')\n",
    "end_date = pd.to_datetime('10/22/2023')\n",
    "# Filter the data based on date range\n",
    "filtered_df1 = filtered_df[(filtered_df['date'] >= start_date) & (filtered_df['date'] <= end_date)]\n",
    "\n",
    "start_date = pd.to_datetime('10/22/2023')\n",
    "end_date = pd.to_datetime('11/21/2023')\n",
    "filtered_df2 = filtered_df[(filtered_df['date'] >= start_date) & (filtered_df['date'] <= end_date)]\n",
    "\n",
    "start_date = pd.to_datetime('11/21/2023')\n",
    "end_date = pd.to_datetime('12/21/2023')\n",
    "filtered_df3 = filtered_df[(filtered_df['date'] >= start_date) & (filtered_df['date'] <= end_date)]\n",
    "\n",
    "# Count the data for each date and sort by date\n",
    "date1 = filtered_df1['sentiment'].values.tolist()\n",
    "date2 = filtered_df2['sentiment'].values.tolist()\n",
    "date3 = filtered_df3['sentiment'].values.tolist()\n",
    "\n",
    "# Perform one-way analysis of variance (ANOVA)\n",
    "f_statistic, p_value = f_oneway(date1, date2, date3)\n",
    "\n",
    "# Output the results of the ANOVA\n",
    "print(\"Results of one-way analysis of variance:\")\n",
    "print(\"F-statistic:\", f_statistic)\n",
    "print(\"p-value:\", p_value)"
   ]
  },
  {
   "cell_type": "code",
   "execution_count": 46,
   "metadata": {
    "pycharm": {
     "name": "#%%\n"
    }
   },
   "outputs": [
    {
     "name": "stdout",
     "output_type": "stream",
     "text": [
      "Results of one-way analysis of variance:\n",
      "F-statistic: 1.2694885030990004\n",
      "p-value: 0.2600448148261954\n"
     ]
    }
   ],
   "source": [
    "# 10/31/2020 – 11/12/2020 & 10/22/2021 to 11/21/2021 \n",
    "start_date = pd.to_datetime('10/31/2020')\n",
    "end_date = pd.to_datetime('11/12/2020')\n",
    "# Filter the data based on date range\n",
    "filtered_df1 = filtered_df[(filtered_df['date'] >= start_date) & (filtered_df['date'] <= end_date)]\n",
    "\n",
    "start_date = pd.to_datetime('10/22/2021')\n",
    "end_date = pd.to_datetime('11/21/2021')\n",
    "filtered_df2 = filtered_df[(filtered_df['date'] >= start_date) & (filtered_df['date'] <= end_date)]\n",
    "\n",
    "\n",
    "# Count the data for each date and sort by date\n",
    "date1 = filtered_df1['sentiment'].values.tolist()\n",
    "date2 = filtered_df2['sentiment'].values.tolist()\n",
    "\n",
    "# Perform one-way analysis of variance (ANOVA)\n",
    "f_statistic, p_value = f_oneway(date1, date2)\n",
    "\n",
    "# Output the results of the ANOVA\n",
    "print(\"Results of one-way analysis of variance:\")\n",
    "print(\"F-statistic:\", f_statistic)\n",
    "print(\"p-value:\", p_value)"
   ]
  },
  {
   "cell_type": "code",
   "execution_count": 47,
   "metadata": {
    "pycharm": {
     "name": "#%%\n"
    }
   },
   "outputs": [
    {
     "name": "stdout",
     "output_type": "stream",
     "text": [
      "Results of one-way analysis of variance:\n",
      "F-statistic: 1.1128070803151064\n",
      "p-value: 0.2918056064079676\n"
     ]
    }
   ],
   "source": [
    "# 10/31/2020 – 11/12/2020 & 11/6/2022 – 11/18/2022\n",
    "start_date = pd.to_datetime('10/31/2020')\n",
    "end_date = pd.to_datetime('11/12/2020')\n",
    "# Filter the data based on date range\n",
    "filtered_df1 = filtered_df[(filtered_df['date'] >= start_date) & (filtered_df['date'] <= end_date)]\n",
    "\n",
    "start_date = pd.to_datetime('11/6/2022')\n",
    "end_date = pd.to_datetime('11/18/2022')\n",
    "filtered_df2 = filtered_df[(filtered_df['date'] >= start_date) & (filtered_df['date'] <= end_date)]\n",
    "\n",
    "\n",
    "# Count the data for each date and sort by date\n",
    "date1 = filtered_df1['sentiment'].values.tolist()\n",
    "date2 = filtered_df2['sentiment'].values.tolist()\n",
    "\n",
    "# Perform one-way analysis of variance (ANOVA)\n",
    "f_statistic, p_value = f_oneway(date1, date2)\n",
    "\n",
    "# Output the results of the ANOVA\n",
    "print(\"Results of one-way analysis of variance:\")\n",
    "print(\"F-statistic:\", f_statistic)\n",
    "print(\"p-value:\", p_value)"
   ]
  },
  {
   "cell_type": "code",
   "execution_count": 48,
   "metadata": {
    "collapsed": false,
    "pycharm": {
     "name": "#%%\n"
    }
   },
   "outputs": [
    {
     "name": "stdout",
     "output_type": "stream",
     "text": [
      "Results of one-way analysis of variance:\n",
      "F-statistic: 18.86126652656258\n",
      "p-value: 1.62546565035822e-05\n"
     ]
    }
   ],
   "source": [
    "# 10/31/2020 – 11/12/2020 & 11/30/2023 – 12/12/2023\n",
    "start_date = pd.to_datetime('10/31/2020')\n",
    "end_date = pd.to_datetime('11/12/2020')\n",
    "# Filter the data based on date range\n",
    "filtered_df1 = filtered_df[(filtered_df['date'] >= start_date) & (filtered_df['date'] <= end_date)]\n",
    "\n",
    "start_date = pd.to_datetime('11/30/2023')\n",
    "end_date = pd.to_datetime('12/12/2023')\n",
    "filtered_df2 = filtered_df[(filtered_df['date'] >= start_date) & (filtered_df['date'] <= end_date)]\n",
    "\n",
    "\n",
    "# Count the data for each date and sort by date\n",
    "date1 = filtered_df1['sentiment'].values.tolist()\n",
    "date2 = filtered_df2['sentiment'].values.tolist()\n",
    "\n",
    "# Perform one-way analysis of variance (ANOVA)\n",
    "f_statistic, p_value = f_oneway(date1, date2)\n",
    "\n",
    "# Output the results of the ANOVA\n",
    "print(\"Results of one-way analysis of variance:\")\n",
    "print(\"F-statistic:\", f_statistic)\n",
    "print(\"p-value:\", p_value)"
   ]
  }
 ],
 "metadata": {
  "kernelspec": {
   "display_name": "Python 3",
   "language": "python",
   "name": "python3"
  },
  "language_info": {
   "codemirror_mode": {
    "name": "ipython",
    "version": 3
   },
   "file_extension": ".py",
   "mimetype": "text/x-python",
   "name": "python",
   "nbconvert_exporter": "python",
   "pygments_lexer": "ipython3",
   "version": "3.8.5"
  }
 },
 "nbformat": 4,
 "nbformat_minor": 4
}
