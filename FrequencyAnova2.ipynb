{
 "cells": [
  {
   "cell_type": "code",
   "execution_count": 1,
   "metadata": {
    "collapsed": false,
    "pycharm": {
     "name": "#%%\n"
    }
   },
   "outputs": [],
   "source": [
    "import pandas as pd\n",
    "from scipy.stats import f_oneway"
   ]
  },
  {
   "cell_type": "code",
   "execution_count": 2,
   "metadata": {
    "collapsed": false,
    "pycharm": {
     "name": "#%%\n"
    }
   },
   "outputs": [],
   "source": [
    "# Time processing\n",
    "df = pd.read_csv(\"finall_data.csv\")\n",
    "df['date'] = pd.to_datetime(df['date'])\n",
    "df['year'] = df['date'].dt.year\n",
    "df['month'] = df['date'].dt.month"
   ]
  },
  {
   "cell_type": "markdown",
   "metadata": {
    "collapsed": false,
    "pycharm": {
     "name": "#%% md\n"
    }
   },
   "source": [
    "# Anova"
   ]
  },
  {
   "cell_type": "markdown",
   "metadata": {
    "collapsed": false,
    "pycharm": {
     "name": "#%% md\n"
    }
   },
   "source": [
    "## 9/22/2020 to 10/22/2020 和 10/22/2020 to 11/21/2020 和 11/21/2020 to 12/21/2020 的新闻总数做AVOVA对比。解释一下参数。（COP26 延后）"
   ]
  },
  {
   "cell_type": "code",
   "execution_count": 4,
   "metadata": {
    "collapsed": false,
    "pycharm": {
     "name": "#%%\n"
    }
   },
   "outputs": [
    {
     "name": "stdout",
     "output_type": "stream",
     "text": [
      "Results of one-way analysis of variance：\n",
      "F-statistic: 1.404313432451235\n",
      "p-value: 0.2508633984859493\n"
     ]
    },
    {
     "data": {
      "text/plain": [
       "'The f_oneway function is used to perform one-way ANOVA on the two data sets date1 and date2, and will return the F statistic and p-value'"
      ]
     },
     "execution_count": 4,
     "metadata": {},
     "output_type": "execute_result"
    }
   ],
   "source": [
    "\n",
    "# Convert string dates to datetime type\n",
    "start_date = pd.to_datetime('9/22/2020')\n",
    "end_date = pd.to_datetime('10/22/2020')\n",
    "# Filter the data based on date range\n",
    "filtered_df1 = df[(df['date'] >= start_date) & (df['date'] <= end_date)]\n",
    "\n",
    "start_date = pd.to_datetime('10/22/2020')\n",
    "end_date = pd.to_datetime('11/21/2020')\n",
    "filtered_df2 = df[(df['date'] >= start_date) & (df['date'] <= end_date)]\n",
    "\n",
    "start_date = pd.to_datetime('11/21/2020')\n",
    "end_date = pd.to_datetime('12/21/2020')\n",
    "filtered_df3 = df[(df['date'] >= start_date) & (df['date'] <= end_date)]\n",
    "\n",
    "# Count the data for each date and sort by date\n",
    "date1 = filtered_df1['date'].value_counts().sort_index()\n",
    "date2 = filtered_df2['date'].value_counts().sort_index()\n",
    "date3 = filtered_df3['date'].value_counts().sort_index()\n",
    "\n",
    "# Perform one-way analysis of variance (ANOVA)\n",
    "f_statistic, p_value = f_oneway(date1, date2, date3)\n",
    "\n",
    "# Output the results of the ANOVA\n",
    "print(\"Results of one-way analysis of variance:\")\n",
    "print(\"F-statistic:\", f_statistic)\n",
    "print(\"p-value:\", p_value)\n",
    "\"\"\"The f_oneway function is used to perform one-way ANOVA on the two data sets date1 and date2, and will return the F statistic and p-value\"\"\""
   ]
  },
  {
   "cell_type": "markdown",
   "metadata": {
    "collapsed": false,
    "pycharm": {
     "name": "#%% md\n"
    }
   },
   "source": [
    "## 9/22/2021 to 10/22/2021 和 10/22/2021 to 11/21/2021 和 11/21/2021 to 12/21/2021 的新闻总数做AVOVA对比。解释一下参数。（COP26 10/31/2021 – 11/12/2021）"
   ]
  },
  {
   "cell_type": "code",
   "execution_count": 5,
   "metadata": {
    "collapsed": false,
    "pycharm": {
     "name": "#%%\n"
    }
   },
   "outputs": [
    {
     "name": "stdout",
     "output_type": "stream",
     "text": [
      "Results of one-way analysis of variance：\n",
      "F-statistic: 14.315499212147259\n",
      "p-value: 3.999397545517129e-06\n"
     ]
    }
   ],
   "source": [
    "start_date = pd.to_datetime('9/22/2021')\n",
    "end_date = pd.to_datetime('10/22/2021')\n",
    "filtered_df1 = df[(df['date'] >= start_date) & (df['date'] <= end_date)]\n",
    "\n",
    "start_date = pd.to_datetime('10/22/2021')\n",
    "end_date = pd.to_datetime('11/21/2021')\n",
    "filtered_df2 = df[(df['date'] >= start_date) & (df['date'] <= end_date)]\n",
    "\n",
    "start_date = pd.to_datetime('11/21/2021')\n",
    "end_date = pd.to_datetime('12/21/2021')\n",
    "filtered_df3 = df[(df['date'] >= start_date) & (df['date'] <= end_date)]\n",
    "\n",
    "date1 = filtered_df1['date'].value_counts().sort_index()\n",
    "date2 = filtered_df2['date'].value_counts().sort_index()\n",
    "date3 = filtered_df3['date'].value_counts().sort_index()\n",
    "f_statistic, p_value = f_oneway(date1, date2,date3)\n",
    "\n",
    "print(\"Results of one-way analysis of variance：\")\n",
    "print(\"F-statistic:\", f_statistic)\n",
    "print(\"p-value:\", p_value)"
   ]
  },
  {
   "cell_type": "markdown",
   "metadata": {
    "collapsed": false,
    "pycharm": {
     "name": "#%% md\n"
    }
   },
   "source": [
    "## 9/27/2022 to 10/27/2022 和 10/27/2022 to 11/27/2022 和 11/27/2022 to 12/27/2022 的新闻总数做AVOVA对比。解释一下参数。（COP27 11/6/2022 – 11/18/2022）"
   ]
  },
  {
   "cell_type": "code",
   "execution_count": 6,
   "metadata": {
    "collapsed": false,
    "pycharm": {
     "name": "#%%\n"
    }
   },
   "outputs": [
    {
     "name": "stdout",
     "output_type": "stream",
     "text": [
      "Results of one-way analysis of variance：\n",
      "F-statistic: 2.927854333138432\n",
      "p-value: 0.05857141286418632\n"
     ]
    }
   ],
   "source": [
    "start_date = pd.to_datetime('9/27/2022')\n",
    "end_date = pd.to_datetime('10/27/2022')\n",
    "filtered_df1 = df[(df['date'] >= start_date) & (df['date'] <= end_date)]\n",
    "\n",
    "start_date = pd.to_datetime('10/27/2022')\n",
    "end_date = pd.to_datetime('11/27/2022')\n",
    "filtered_df2 = df[(df['date'] >= start_date) & (df['date'] <= end_date)]\n",
    "\n",
    "start_date = pd.to_datetime('11/27/2022')\n",
    "end_date = pd.to_datetime('12/27/2022')\n",
    "filtered_df3 = df[(df['date'] >= start_date) & (df['date'] <= end_date)]\n",
    "\n",
    "date1 = filtered_df1['date'].value_counts().sort_index()\n",
    "date2 = filtered_df2['date'].value_counts().sort_index()\n",
    "date3 = filtered_df3['date'].value_counts().sort_index()\n",
    "f_statistic, p_value = f_oneway(date1, date2,date3)\n",
    "\n",
    "print(\"Results of one-way analysis of variance：\")\n",
    "print(\"F-statistic:\", f_statistic)\n",
    "print(\"p-value:\", p_value)"
   ]
  },
  {
   "cell_type": "markdown",
   "metadata": {
    "collapsed": false,
    "pycharm": {
     "name": "#%% md\n"
    }
   },
   "source": [
    "## 9/22/2023 to 10/22/2023 和 10/22/2023 to 11/21/2023 和 11/21/2023 to 12/21/2023 的新闻总数做AVOVA对比。解释一下参数。（COP28  11/30/2023 – 12/12/2023）"
   ]
  },
  {
   "cell_type": "code",
   "execution_count": 7,
   "metadata": {
    "collapsed": false,
    "pycharm": {
     "name": "#%%\n"
    }
   },
   "outputs": [
    {
     "name": "stdout",
     "output_type": "stream",
     "text": [
      "Results of one-way analysis of variance：\n",
      "F-statistic: 3.135391282426804\n",
      "p-value: 0.04826811396610227\n"
     ]
    }
   ],
   "source": [
    "start_date = pd.to_datetime('9/22/2023')\n",
    "end_date = pd.to_datetime('10/22/2023')\n",
    "filtered_df1 = df[(df['date'] >= start_date) & (df['date'] <= end_date)]\n",
    "\n",
    "start_date = pd.to_datetime('10/22/2023')\n",
    "end_date = pd.to_datetime('11/21/2023')\n",
    "filtered_df2 = df[(df['date'] >= start_date) & (df['date'] <= end_date)]\n",
    "\n",
    "start_date = pd.to_datetime('11/21/2023')\n",
    "end_date = pd.to_datetime('12/21/2023')\n",
    "filtered_df3 = df[(df['date'] >= start_date) & (df['date'] <= end_date)]\n",
    "\n",
    "date1 = filtered_df1['date'].value_counts().sort_index()\n",
    "date2 = filtered_df2['date'].value_counts().sort_index()\n",
    "date3 = filtered_df3['date'].value_counts().sort_index()\n",
    "f_statistic, p_value = f_oneway(date1, date2,date3)\n",
    "\n",
    "print(\"Results of one-way analysis of variance：\")\n",
    "print(\"F-statistic:\", f_statistic)\n",
    "print(\"p-value:\", p_value)"
   ]
  },
  {
   "cell_type": "code",
   "execution_count": null,
   "metadata": {
    "collapsed": false,
    "pycharm": {
     "name": "#%%\n"
    }
   },
   "outputs": [],
   "source": [
    "# 10/31/2020 – 11/12/2020 和 10/22/2021 to 11/21/2021的新闻总数做AVOVA对比。解释一下参数。"
   ]
  },
  {
   "cell_type": "code",
   "execution_count": null,
   "metadata": {},
   "outputs": [],
   "source": [
    "# 10/31/2020 – 11/12/2020 和 11/6/2022 – 11/18/2022的新闻总数做AVOVA对比。解释一下参数。"
   ]
  },
  {
   "cell_type": "code",
   "execution_count": null,
   "metadata": {},
   "outputs": [],
   "source": [
    "# 10/31/2020 – 11/12/2020 和 11/30/2023 – 12/12/2023的s新闻总数做AVOVA对比。解释一下参数。"
   ]
  },
  {
   "cell_type": "code",
   "execution_count": null,
   "metadata": {},
   "outputs": [],
   "source": [
    "# 10/31/2020 – 11/12/2020 和 10/22/2021 to 11/21/2021的新闻总数做AVOVA对比。解释一下参数。\n",
    "start_date = pd.to_datetime('10/31/2020')\n",
    "end_date = pd.to_datetime('11/12/2020')\n",
    "filtered_df1 = df[(df['date'] >= start_date) & (df['date'] <= end_date)]\n",
    "\n",
    "start_date = pd.to_datetime('10/22/2021')\n",
    "end_date = pd.to_datetime('11/21/2021')\n",
    "filtered_df2 = df[(df['date'] >= start_date) & (df['date'] <= end_date)]\n",
    "\n",
    "date1 = filtered_df1['date'].value_counts().sort_index()\n",
    "date2 = filtered_df2['date'].value_counts().sort_index()\n",
    "\n",
    "f_statistic, p_value = f_oneway(date1, date2)\n",
    "\n",
    "print(\"Results of one-way analysis of variance：\")\n",
    "print(\"F-statistic:\", f_statistic)\n",
    "print(\"p-value:\", p_value)"
   ]
  },
  {
   "cell_type": "code",
   "execution_count": null,
   "metadata": {},
   "outputs": [],
   "source": [
    "# 10/31/2020 – 11/12/2020 和 11/6/2022 – 11/18/2022的新闻总数做AVOVA对比。解释一下参数。\n",
    "start_date = pd.to_datetime('10/31/2020')\n",
    "end_date = pd.to_datetime('11/12/2020')\n",
    "filtered_df1 = df[(df['date'] >= start_date) & (df['date'] <= end_date)]\n",
    "\n",
    "start_date = pd.to_datetime('11/06/2022')\n",
    "end_date = pd.to_datetime('11/18/2022')\n",
    "filtered_df2 = df[(df['date'] >= start_date) & (df['date'] <= end_date)]\n",
    "\n",
    "date1 = filtered_df1['date'].value_counts().sort_index()\n",
    "date2 = filtered_df2['date'].value_counts().sort_index()\n",
    "\n",
    "f_statistic, p_value = f_oneway(date1, date2)\n",
    "\n",
    "print(\"Results of one-way analysis of variance：\")\n",
    "print(\"F-statistic:\", f_statistic)\n",
    "print(\"p-value:\", p_value)"
   ]
  },
  {
   "cell_type": "code",
   "execution_count": null,
   "metadata": {},
   "outputs": [],
   "source": [
    "# 10/31/2020 – 11/12/2020 和 11/30/2023 – 12/12/2023的s新闻总数做AVOVA对比。解释一下参数。\n",
    "start_date = pd.to_datetime('10/31/2020')\n",
    "end_date = pd.to_datetime('11/12/2020')\n",
    "filtered_df1 = df[(df['date'] >= start_date) & (df['date'] <= end_date)]\n",
    "\n",
    "start_date = pd.to_datetime('11/30/2023')\n",
    "end_date = pd.to_datetime('12/12/2023')\n",
    "filtered_df2 = df[(df['date'] >= start_date) & (df['date'] <= end_date)]\n",
    "\n",
    "date1 = filtered_df1['date'].value_counts().sort_index()\n",
    "date2 = filtered_df2['date'].value_counts().sort_index()\n",
    "\n",
    "f_statistic, p_value = f_oneway(date1, date2)\n",
    "\n",
    "print(\"Results of one-way analysis of variance：\")\n",
    "print(\"F-statistic:\", f_statistic)\n",
    "print(\"p-value:\", p_value)"
   ]
  }
 ],
 "metadata": {
  "kernelspec": {
   "display_name": "Python 3",
   "language": "python",
   "name": "python3"
  },
  "language_info": {
   "codemirror_mode": {
    "name": "ipython",
    "version": 2
   },
   "file_extension": ".py",
   "mimetype": "text/x-python",
   "name": "python",
   "nbconvert_exporter": "python",
   "pygments_lexer": "ipython2",
   "version": "2.7.6"
  }
 },
 "nbformat": 4,
 "nbformat_minor": 0
}
